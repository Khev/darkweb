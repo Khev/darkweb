{
 "cells": [
  {
   "cell_type": "markdown",
   "metadata": {},
   "source": [
    "# Introduction\n",
    "\n",
    "Looking at data here"
   ]
  },
  {
   "cell_type": "code",
   "execution_count": 54,
   "metadata": {},
   "outputs": [
    {
     "data": {
      "text/html": [
       "<div>\n",
       "<style scoped>\n",
       "    .dataframe tbody tr th:only-of-type {\n",
       "        vertical-align: middle;\n",
       "    }\n",
       "\n",
       "    .dataframe tbody tr th {\n",
       "        vertical-align: top;\n",
       "    }\n",
       "\n",
       "    .dataframe thead th {\n",
       "        text-align: right;\n",
       "    }\n",
       "</style>\n",
       "<table border=\"1\" class=\"dataframe\">\n",
       "  <thead>\n",
       "    <tr style=\"text-align: right;\">\n",
       "      <th></th>\n",
       "      <th>Source</th>\n",
       "      <th>Target</th>\n",
       "      <th>Type</th>\n",
       "      <th>Weight</th>\n",
       "    </tr>\n",
       "  </thead>\n",
       "  <tbody>\n",
       "    <tr>\n",
       "      <td>0</td>\n",
       "      <td>visitorfi5kl7q7i</td>\n",
       "      <td>zpffh4wwhuu3ndxm</td>\n",
       "      <td>Directed</td>\n",
       "      <td>1</td>\n",
       "    </tr>\n",
       "    <tr>\n",
       "      <td>1</td>\n",
       "      <td>visitorfi5kl7q7i</td>\n",
       "      <td>toristfgqiroaded</td>\n",
       "      <td>Directed</td>\n",
       "      <td>1</td>\n",
       "    </tr>\n",
       "    <tr>\n",
       "      <td>2</td>\n",
       "      <td>visitorfi5kl7q7i</td>\n",
       "      <td>x3nelbld33llasqv</td>\n",
       "      <td>Directed</td>\n",
       "      <td>1</td>\n",
       "    </tr>\n",
       "    <tr>\n",
       "      <td>3</td>\n",
       "      <td>visitorfi5kl7q7i</td>\n",
       "      <td>bzreqoyjwop3dbtn</td>\n",
       "      <td>Directed</td>\n",
       "      <td>1</td>\n",
       "    </tr>\n",
       "    <tr>\n",
       "      <td>4</td>\n",
       "      <td>visitorfi5kl7q7i</td>\n",
       "      <td>deaddropinli5cme</td>\n",
       "      <td>Directed</td>\n",
       "      <td>1</td>\n",
       "    </tr>\n",
       "    <tr>\n",
       "      <td>...</td>\n",
       "      <td>...</td>\n",
       "      <td>...</td>\n",
       "      <td>...</td>\n",
       "      <td>...</td>\n",
       "    </tr>\n",
       "    <tr>\n",
       "      <td>20327</td>\n",
       "      <td>mihl4p6zv57y2e53</td>\n",
       "      <td>3g2upl4pq6kufc4m</td>\n",
       "      <td>Directed</td>\n",
       "      <td>1</td>\n",
       "    </tr>\n",
       "    <tr>\n",
       "      <td>20328</td>\n",
       "      <td>jjrbfzv3f2vff7fb</td>\n",
       "      <td>fhostingesps6bly</td>\n",
       "      <td>Directed</td>\n",
       "      <td>2</td>\n",
       "    </tr>\n",
       "    <tr>\n",
       "      <td>20329</td>\n",
       "      <td>fbr3urtao5c4zecb</td>\n",
       "      <td>fhostingesps6bly</td>\n",
       "      <td>Directed</td>\n",
       "      <td>1</td>\n",
       "    </tr>\n",
       "    <tr>\n",
       "      <td>20330</td>\n",
       "      <td>grams7hm4x3gb7wj</td>\n",
       "      <td>toradsc6vvmtugty</td>\n",
       "      <td>Directed</td>\n",
       "      <td>1</td>\n",
       "    </tr>\n",
       "    <tr>\n",
       "      <td>20331</td>\n",
       "      <td>grams6qu7rkusupi</td>\n",
       "      <td>toradsc6vvmtugty</td>\n",
       "      <td>Directed</td>\n",
       "      <td>1</td>\n",
       "    </tr>\n",
       "  </tbody>\n",
       "</table>\n",
       "<p>20332 rows × 4 columns</p>\n",
       "</div>"
      ],
      "text/plain": [
       "                 Source            Target      Type  Weight\n",
       "0      visitorfi5kl7q7i  zpffh4wwhuu3ndxm  Directed       1\n",
       "1      visitorfi5kl7q7i  toristfgqiroaded  Directed       1\n",
       "2      visitorfi5kl7q7i  x3nelbld33llasqv  Directed       1\n",
       "3      visitorfi5kl7q7i  bzreqoyjwop3dbtn  Directed       1\n",
       "4      visitorfi5kl7q7i  deaddropinli5cme  Directed       1\n",
       "...                 ...               ...       ...     ...\n",
       "20327  mihl4p6zv57y2e53  3g2upl4pq6kufc4m  Directed       1\n",
       "20328  jjrbfzv3f2vff7fb  fhostingesps6bly  Directed       2\n",
       "20329  fbr3urtao5c4zecb  fhostingesps6bly  Directed       1\n",
       "20330  grams7hm4x3gb7wj  toradsc6vvmtugty  Directed       1\n",
       "20331  grams6qu7rkusupi  toradsc6vvmtugty  Directed       1\n",
       "\n",
       "[20332 rows x 4 columns]"
      ]
     },
     "execution_count": 54,
     "metadata": {},
     "output_type": "execute_result"
    }
   ],
   "source": [
    "import numpy\n",
    "import pandas as pd\n",
    "import matplotlib.pyplot as plt\n",
    "plt.rcParams['axes.facecolor'] = 'white'\n",
    "plt.rcParams['axes.linewidth'] = 1 #set the value globally\n",
    "%matplotlib inline\n",
    "\n",
    "data = pd.read_csv('data/edges-spokeless.csv')\n",
    "data"
   ]
  },
  {
   "cell_type": "code",
   "execution_count": 27,
   "metadata": {},
   "outputs": [],
   "source": [
    "import networkx as nx\n",
    "\n",
    "temp = []\n",
    "for index, row in data.iterrows():\n",
    "    a,b,weight = row['Source'], row['Target'], row['Weight']\n",
    "    temp.append((a,b,weight))\n",
    "    \n",
    "G = nx.DiGraph()\n",
    "G.add_weighted_edges_from(temp)"
   ]
  },
  {
   "cell_type": "code",
   "execution_count": 55,
   "metadata": {},
   "outputs": [
    {
     "data": {
      "image/png": "[encoded data removed]",
      "text/plain": [
       "<Figure size 432x288 with 1 Axes>"
      ]
     },
     "metadata": {
      "needs_background": "light"
     },
     "output_type": "display_data"
    }
   ],
   "source": [
    "kins, kouts = [], []\n",
    "for node in G.nodes():\n",
    "    kin = G.in_degree(node)\n",
    "    kout = G.out_degree(node)\n",
    "    kins.append(kin)\n",
    "    kouts.append(kout)\n",
    "plt.plot(kins,kouts,'.')\n",
    "plt.xlabel('in degree',fontsize=12)\n",
    "plt.ylabel('out degree',fontsize=12)\n",
    "plt.xlim([0,60])\n",
    "plt.ylim([0,500])\n",
    "plt.savefig('scatter-plot-kin-kout.pdf')"
   ]
  },
  {
   "cell_type": "code",
   "execution_count": 51,
   "metadata": {},
   "outputs": [
    {
     "data": {
      "image/png": "[encoded data removed]",
      "text/plain": [
       "<Figure size 432x288 with 1 Axes>"
      ]
     },
     "metadata": {
      "needs_background": "light"
     },
     "output_type": "display_data"
    }
   ],
   "source": [
    "#show average\n",
    "d = {}\n",
    "for kin,kout in zip(kins,kouts):\n",
    "    if kin not in d:\n",
    "        d[kin] = (kout,1)\n",
    "    else:\n",
    "        t1,t2 = d[kin]\n",
    "        d[kin] = (t1+kout, t2+1)\n",
    "        \n",
    "d1 = {key:1.*(val)[0]/val[1] for key,val in d.items()}\n",
    "plt.plot(d1.keys(),d1.values(),'.')\n",
    "plt.xlabel('in degree',fontsize=12)\n",
    "plt.ylabel('mean out degree',fontsize=12)\n",
    "plt.savefig('scatter-plot-kin-mean-kout.pdf')"
   ]
  },
  {
   "cell_type": "code",
   "execution_count": 58,
   "metadata": {},
   "outputs": [
    {
     "data": {
      "text/plain": [
       "Text(0, 0.5, 'out degree')"
      ]
     },
     "execution_count": 58,
     "metadata": {},
     "output_type": "execute_result"
    },
    {
     "data": {
      "image/png": "[encoded data removed]",
      "text/plain": [
       "<Figure size 864x216 with 2 Axes>"
      ]
     },
     "metadata": {
      "needs_background": "light"
     },
     "output_type": "display_data"
    }
   ],
   "source": [
    "plt.figure(figsize=(12,3), linewidth=100)\n",
    "plt.subplot(121)\n",
    "\n",
    "#show average\n",
    "d = {}\n",
    "for kin,kout in zip(kins,kouts):\n",
    "    if kin not in d:\n",
    "        d[kin] = (kout,1)\n",
    "    else:\n",
    "        t1,t2 = d[kin]\n",
    "        d[kin] = (t1+kout, t2+1)\n",
    "        \n",
    "d1 = {key:1.*(val)[0]/val[1] for key,val in d.items()}\n",
    "plt.plot(d1.keys(),d1.values(),'.')\n",
    "plt.xlabel('in degree',fontsize=12)\n",
    "plt.ylabel('mean out degree',fontsize=12)\n",
    "\n",
    "plt.subplot(122)\n",
    "plt.plot(kins,kouts,'.')\n",
    "plt.xlabel('in degree',fontsize=12)\n",
    "plt.ylabel('out degree',fontsize=12)\n",
    "#plt.savefig('scatter-plot-kin-kout.pdf')"
   ]
  }
 ],
 "metadata": {
  "kernelspec": {
   "display_name": "Python 3",
   "language": "python",
   "name": "python3"
  },
  "language_info": {
   "codemirror_mode": {
    "name": "ipython",
    "version": 3
   },
   "file_extension": ".py",
   "mimetype": "text/x-python",
   "name": "python",
   "nbconvert_exporter": "python",
   "pygments_lexer": "ipython3",
   "version": "3.7.1"
  }
 },
 "nbformat": 4,
 "nbformat_minor": 2
}
